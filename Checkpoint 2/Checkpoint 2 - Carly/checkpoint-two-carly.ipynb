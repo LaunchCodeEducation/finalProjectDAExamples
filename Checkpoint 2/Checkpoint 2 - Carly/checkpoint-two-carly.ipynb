{
 "cells": [
  {
   "cell_type": "markdown",
   "metadata": {
    "azdata_cell_guid": "151601c9-ca7a-412e-af80-c62a87e0837e"
   },
   "source": [
    "# Checkpoint Two: Exploratory Data Analysis\n",
    "\n",
    "Now that your chosen dataset is approved, it is time to start working on your analysis. Use this notebook to perform your EDA and make notes where directed to as you work.\n",
    "\n",
    "## Getting Started\n",
    "\n",
    "Since we have not provided your dataset for you, you will need to load the necessary files in this repository. Make sure to include a link back to the original dataset here as well.\n",
    "\n",
    "My dataset: https://www.kaggle.com/bbhatt001/human-microbiome-project\n",
    "\n",
    "Your first task in EDA is to import necessary libraries and create a dataframe(s). Make note in the form of code comments of what your thought process is as you work on this setup task."
   ]
  },
  {
   "cell_type": "code",
   "execution_count": 3,
   "metadata": {
    "azdata_cell_guid": "7b503e37-6df5-4433-acfb-678b1346db14"
   },
   "outputs": [
    {
     "name": "stdout",
     "output_type": "stream",
     "text": [
      "<class 'pandas.core.frame.DataFrame'>\n",
      "RangeIndex: 2915 entries, 0 to 2914\n",
      "Data columns (total 17 columns):\n",
      " #   Column                   Non-Null Count  Dtype \n",
      "---  ------                   --------------  ----- \n",
      " 0   HMP ID                   2915 non-null   int64 \n",
      " 1   GOLD ID                  1783 non-null   object\n",
      " 2   Organism Name            2915 non-null   object\n",
      " 3   Domain                   2712 non-null   object\n",
      " 4   NCBI Superkingdom        2751 non-null   object\n",
      " 5   HMP Isolation Body Site  2915 non-null   object\n",
      " 6   Project Status           2915 non-null   object\n",
      " 7   Current Finishing Level  1579 non-null   object\n",
      " 8   NCBI Submission Status   2915 non-null   object\n",
      " 9   NCBI Project ID          2915 non-null   int64 \n",
      " 10  Genbank ID               1579 non-null   object\n",
      " 11  Gene Count               2915 non-null   int64 \n",
      " 12  IMG/HMP ID               2915 non-null   int64 \n",
      " 13  HOMD ID                  397 non-null    object\n",
      " 14  Sequencing Center        2911 non-null   object\n",
      " 15  Funding Source           2915 non-null   object\n",
      " 16  Strain Repository ID     1377 non-null   object\n",
      "dtypes: int64(4), object(13)\n",
      "memory usage: 387.3+ KB\n",
      "None\n"
     ]
    }
   ],
   "source": [
    "import pandas as pd\n",
    "import matplotlib.pyplot as plt\n",
    "import seaborn as sns\n",
    "\n",
    "hmp_df = pd.read_csv(\"project_catalog (1).csv\")\n",
    "\n",
    "\n",
    "# Did creating the dataframe work?\n",
    "print(hmp_df.info())"
   ]
  },
  {
   "cell_type": "markdown",
   "metadata": {
    "azdata_cell_guid": "129ce836-524b-4ea8-b394-a959f9308d6a"
   },
   "source": [
    "## Get to Know the Numbers\n",
    "\n",
    "Now that you have everything setup, put any code that you use to get to know the dataframe and its rows and columns better in the cell below. You can use whatever techniques you like, except for visualizations. You will put those in a separate section.\n",
    "\n",
    "When working on your code, make sure to leave comments so that your mentors can understand your thought process."
   ]
  },
  {
   "cell_type": "code",
   "execution_count": 16,
   "metadata": {
    "azdata_cell_guid": "0ca2d318-f6e8-43ef-a33e-5304d24d928d",
    "tags": []
   },
   "outputs": [
    {
     "data": {
      "text/html": [
       "<div>\n",
       "<style scoped>\n",
       "    .dataframe tbody tr th:only-of-type {\n",
       "        vertical-align: middle;\n",
       "    }\n",
       "\n",
       "    .dataframe tbody tr th {\n",
       "        vertical-align: top;\n",
       "    }\n",
       "\n",
       "    .dataframe thead th {\n",
       "        text-align: right;\n",
       "    }\n",
       "</style>\n",
       "<table border=\"1\" class=\"dataframe\">\n",
       "  <thead>\n",
       "    <tr style=\"text-align: right;\">\n",
       "      <th></th>\n",
       "      <th>HMP ID</th>\n",
       "      <th>GOLD ID</th>\n",
       "      <th>Organism Name</th>\n",
       "      <th>Domain</th>\n",
       "      <th>NCBI Superkingdom</th>\n",
       "      <th>HMP Isolation Body Site</th>\n",
       "      <th>Project Status</th>\n",
       "      <th>Current Finishing Level</th>\n",
       "      <th>NCBI Submission Status</th>\n",
       "      <th>NCBI Project ID</th>\n",
       "      <th>Genbank ID</th>\n",
       "      <th>Gene Count</th>\n",
       "      <th>IMG/HMP ID</th>\n",
       "      <th>HOMD ID</th>\n",
       "      <th>Sequencing Center</th>\n",
       "      <th>Funding Source</th>\n",
       "      <th>Strain Repository ID</th>\n",
       "    </tr>\n",
       "  </thead>\n",
       "  <tbody>\n",
       "    <tr>\n",
       "      <th>0</th>\n",
       "      <td>1</td>\n",
       "      <td>Gi03551</td>\n",
       "      <td>Abiotrophia defectiva ATCC 49176</td>\n",
       "      <td>BACTERIAL</td>\n",
       "      <td>Bacteria</td>\n",
       "      <td>oral</td>\n",
       "      <td>Complete</td>\n",
       "      <td>Level 3: Improved-High-Quality Draft</td>\n",
       "      <td>6. annotation (and sequence) public on NCBI site</td>\n",
       "      <td>33011</td>\n",
       "      <td>ACIN00000000</td>\n",
       "      <td>1950</td>\n",
       "      <td>643886181</td>\n",
       "      <td>HOMD: tax_389</td>\n",
       "      <td>Washington University Genome Sequencing Center</td>\n",
       "      <td>NIH-HMP Jumpstart Supplement</td>\n",
       "      <td>ATCC 49176, CIP 103242</td>\n",
       "    </tr>\n",
       "    <tr>\n",
       "      <th>1</th>\n",
       "      <td>4</td>\n",
       "      <td>Gi03555</td>\n",
       "      <td>Achromobacter piechaudii ATCC 43553</td>\n",
       "      <td>BACTERIAL</td>\n",
       "      <td>Bacteria</td>\n",
       "      <td>airways</td>\n",
       "      <td>Complete</td>\n",
       "      <td>Level 2: High-Quality Draft</td>\n",
       "      <td>6. annotation (and sequence) public on NCBI site</td>\n",
       "      <td>46343</td>\n",
       "      <td>ADMS00000000</td>\n",
       "      <td>5755</td>\n",
       "      <td>647000200</td>\n",
       "      <td>NaN</td>\n",
       "      <td>Baylor College of Medicine</td>\n",
       "      <td>NIH-HMP Jumpstart Supplement</td>\n",
       "      <td>ATCC 43553, CIP 55774, LMG 6100</td>\n",
       "    </tr>\n",
       "  </tbody>\n",
       "</table>\n",
       "</div>"
      ],
      "text/plain": [
       "   HMP ID  GOLD ID                        Organism Name     Domain  \\\n",
       "0       1  Gi03551     Abiotrophia defectiva ATCC 49176  BACTERIAL   \n",
       "1       4  Gi03555  Achromobacter piechaudii ATCC 43553  BACTERIAL   \n",
       "\n",
       "  NCBI Superkingdom HMP Isolation Body Site Project Status  \\\n",
       "0          Bacteria                    oral       Complete   \n",
       "1          Bacteria                 airways       Complete   \n",
       "\n",
       "                Current Finishing Level  \\\n",
       "0  Level 3: Improved-High-Quality Draft   \n",
       "1           Level 2: High-Quality Draft   \n",
       "\n",
       "                             NCBI Submission Status  NCBI Project ID  \\\n",
       "0  6. annotation (and sequence) public on NCBI site            33011   \n",
       "1  6. annotation (and sequence) public on NCBI site            46343   \n",
       "\n",
       "     Genbank ID  Gene Count  IMG/HMP ID        HOMD ID  \\\n",
       "0  ACIN00000000        1950   643886181  HOMD: tax_389   \n",
       "1  ADMS00000000        5755   647000200            NaN   \n",
       "\n",
       "                                Sequencing Center  \\\n",
       "0  Washington University Genome Sequencing Center   \n",
       "1                      Baylor College of Medicine   \n",
       "\n",
       "                 Funding Source             Strain Repository ID  \n",
       "0  NIH-HMP Jumpstart Supplement           ATCC 49176, CIP 103242  \n",
       "1  NIH-HMP Jumpstart Supplement  ATCC 43553, CIP 55774, LMG 6100  "
      ]
     },
     "execution_count": 16,
     "metadata": {},
     "output_type": "execute_result"
    }
   ],
   "source": [
    "# show the first two rows\n",
    "hmp_df.head(2)"
   ]
  },
  {
   "cell_type": "code",
   "execution_count": 15,
   "metadata": {},
   "outputs": [
    {
     "data": {
      "text/plain": [
       "(2915, 17)"
      ]
     },
     "execution_count": 15,
     "metadata": {},
     "output_type": "execute_result"
    }
   ],
   "source": [
    "# check how many rows and columns are present\n",
    "hmp_df.shape"
   ]
  },
  {
   "cell_type": "code",
   "execution_count": 14,
   "metadata": {},
   "outputs": [
    {
     "data": {
      "text/plain": [
       "Index(['HMP ID', 'GOLD ID', 'Organism Name', 'Domain', 'NCBI Superkingdom',\n",
       "       'HMP Isolation Body Site', 'Project Status', 'Current Finishing Level',\n",
       "       'NCBI Submission Status', 'NCBI Project ID', 'Genbank ID', 'Gene Count',\n",
       "       'IMG/HMP ID', 'HOMD ID', 'Sequencing Center', 'Funding Source',\n",
       "       'Strain Repository ID'],\n",
       "      dtype='object')"
      ]
     },
     "execution_count": 14,
     "metadata": {},
     "output_type": "execute_result"
    }
   ],
   "source": [
    "# get column names\n",
    "hmp_df.columns"
   ]
  },
  {
   "cell_type": "code",
   "execution_count": 17,
   "metadata": {},
   "outputs": [
    {
     "data": {
      "text/plain": [
       "HMP ID                        0\n",
       "GOLD ID                    1132\n",
       "Organism Name                 0\n",
       "Domain                      203\n",
       "NCBI Superkingdom           164\n",
       "HMP Isolation Body Site       0\n",
       "Project Status                0\n",
       "Current Finishing Level    1336\n",
       "NCBI Submission Status        0\n",
       "NCBI Project ID               0\n",
       "Genbank ID                 1336\n",
       "Gene Count                    0\n",
       "IMG/HMP ID                    0\n",
       "HOMD ID                    2518\n",
       "Sequencing Center             4\n",
       "Funding Source                0\n",
       "Strain Repository ID       1538\n",
       "dtype: int64"
      ]
     },
     "execution_count": 17,
     "metadata": {},
     "output_type": "execute_result"
    }
   ],
   "source": [
    "# get a look at null counts\n",
    "hmp_df.isnull().sum()"
   ]
  },
  {
   "cell_type": "code",
   "execution_count": 23,
   "metadata": {},
   "outputs": [
    {
     "data": {
      "text/plain": [
       "Aeromonas veronii AMC34                   3\n",
       "Plesiomonas sp. HPP0020                   2\n",
       "Facklamia languida CCUG 37842             2\n",
       "Clostridium ramosum DSM 1402              2\n",
       "Haemophilus parainfluenzae ATCC 33392     2\n",
       "                                         ..\n",
       "Propionibacterium acnes HL036PA2          1\n",
       "Lactobacillus oris PB013-T2-3             1\n",
       "Enterococcus faecalis 599                 1\n",
       "Lachnospiraceae bacterium ORNL_W42_D12    1\n",
       "Clostridium clostridioforme CM201         1\n",
       "Name: Organism Name, Length: 2906, dtype: int64"
      ]
     },
     "execution_count": 23,
     "metadata": {},
     "output_type": "execute_result"
    }
   ],
   "source": [
    "# what unique organisms are present?\n",
    "hmp_df['Organism Name'].value_counts()"
   ]
  },
  {
   "cell_type": "code",
   "execution_count": 19,
   "metadata": {},
   "outputs": [
    {
     "data": {
      "text/plain": [
       "BACTERIAL    2696\n",
       "EUKARYAL        8\n",
       "VIRUS           6\n",
       "ARCHAEAL        2\n",
       "Name: Domain, dtype: int64"
      ]
     },
     "execution_count": 19,
     "metadata": {},
     "output_type": "execute_result"
    }
   ],
   "source": [
    "# what domains are represented?\n",
    "hmp_df['Domain'].value_counts()"
   ]
  },
  {
   "cell_type": "code",
   "execution_count": 22,
   "metadata": {},
   "outputs": [
    {
     "data": {
      "text/plain": [
       "Bacteria     2732\n",
       "Eukaryota       8\n",
       "Viruses         6\n",
       "Error!!!        3\n",
       "Archaea         2\n",
       "Name: NCBI Superkingdom, dtype: int64"
      ]
     },
     "execution_count": 22,
     "metadata": {},
     "output_type": "execute_result"
    }
   ],
   "source": [
    "# superkingdoms?\n",
    "hmp_df['NCBI Superkingdom'].value_counts()"
   ]
  },
  {
   "cell_type": "code",
   "execution_count": 21,
   "metadata": {},
   "outputs": [
    {
     "data": {
      "text/plain": [
       "gastrointestinal_tract    745\n",
       "unknown                   654\n",
       "urogenital_tract          529\n",
       "oral                      347\n",
       "skin                      267\n",
       "airways                   236\n",
       "blood                      75\n",
       "bone                       27\n",
       "other                      13\n",
       "eye                         8\n",
       "ear                         4\n",
       "wound                       4\n",
       "nose                        2\n",
       "heart                       2\n",
       "liver                       1\n",
       "lymph_nodes                 1\n",
       "Name: HMP Isolation Body Site, dtype: int64"
      ]
     },
     "execution_count": 21,
     "metadata": {},
     "output_type": "execute_result"
    }
   ],
   "source": [
    "# collection sites\n",
    "hmp_df['HMP Isolation Body Site'].value_counts()"
   ]
  },
  {
   "cell_type": "code",
   "execution_count": 25,
   "metadata": {},
   "outputs": [
    {
     "data": {
      "text/plain": [
       "count    2915.000000\n",
       "mean     1474.622642\n",
       "std      1653.762393\n",
       "min         0.000000\n",
       "25%         0.000000\n",
       "50%      1517.000000\n",
       "75%      2489.500000\n",
       "max      8490.000000\n",
       "Name: Gene Count, dtype: float64"
      ]
     },
     "execution_count": 25,
     "metadata": {},
     "output_type": "execute_result"
    }
   ],
   "source": [
    "# peek at the gene count stats\n",
    "hmp_df['Gene Count'].describe()"
   ]
  },
  {
   "cell_type": "code",
   "execution_count": 28,
   "metadata": {},
   "outputs": [
    {
     "data": {
      "text/plain": [
       "False    1523\n",
       "True     1392\n",
       "Name: Gene Count, dtype: int64"
      ]
     },
     "execution_count": 28,
     "metadata": {},
     "output_type": "execute_result"
    }
   ],
   "source": [
    "# how many zero values are present in Gene Counts\n",
    "(hmp_df['Gene Count'] == 0).value_counts()"
   ]
  },
  {
   "cell_type": "code",
   "execution_count": 29,
   "metadata": {},
   "outputs": [
    {
     "data": {
      "text/html": [
       "<div>\n",
       "<style scoped>\n",
       "    .dataframe tbody tr th:only-of-type {\n",
       "        vertical-align: middle;\n",
       "    }\n",
       "\n",
       "    .dataframe tbody tr th {\n",
       "        vertical-align: top;\n",
       "    }\n",
       "\n",
       "    .dataframe thead th {\n",
       "        text-align: right;\n",
       "    }\n",
       "</style>\n",
       "<table border=\"1\" class=\"dataframe\">\n",
       "  <thead>\n",
       "    <tr style=\"text-align: right;\">\n",
       "      <th></th>\n",
       "      <th>HMP ID</th>\n",
       "      <th>NCBI Project ID</th>\n",
       "      <th>Gene Count</th>\n",
       "      <th>IMG/HMP ID</th>\n",
       "    </tr>\n",
       "  </thead>\n",
       "  <tbody>\n",
       "    <tr>\n",
       "      <th>HMP ID</th>\n",
       "      <td>1.000000</td>\n",
       "      <td>-0.203208</td>\n",
       "      <td>0.161011</td>\n",
       "      <td>0.121604</td>\n",
       "    </tr>\n",
       "    <tr>\n",
       "      <th>NCBI Project ID</th>\n",
       "      <td>-0.203208</td>\n",
       "      <td>1.000000</td>\n",
       "      <td>-0.606112</td>\n",
       "      <td>-0.429478</td>\n",
       "    </tr>\n",
       "    <tr>\n",
       "      <th>Gene Count</th>\n",
       "      <td>0.161011</td>\n",
       "      <td>-0.606112</td>\n",
       "      <td>1.000000</td>\n",
       "      <td>0.334027</td>\n",
       "    </tr>\n",
       "    <tr>\n",
       "      <th>IMG/HMP ID</th>\n",
       "      <td>0.121604</td>\n",
       "      <td>-0.429478</td>\n",
       "      <td>0.334027</td>\n",
       "      <td>1.000000</td>\n",
       "    </tr>\n",
       "  </tbody>\n",
       "</table>\n",
       "</div>"
      ],
      "text/plain": [
       "                   HMP ID  NCBI Project ID  Gene Count  IMG/HMP ID\n",
       "HMP ID           1.000000        -0.203208    0.161011    0.121604\n",
       "NCBI Project ID -0.203208         1.000000   -0.606112   -0.429478\n",
       "Gene Count       0.161011        -0.606112    1.000000    0.334027\n",
       "IMG/HMP ID       0.121604        -0.429478    0.334027    1.000000"
      ]
     },
     "execution_count": 29,
     "metadata": {},
     "output_type": "execute_result"
    }
   ],
   "source": [
    "# not much to correlate out of the box\n",
    "hmp_df.corr()"
   ]
  },
  {
   "cell_type": "markdown",
   "metadata": {
    "azdata_cell_guid": "d45060f3-97bc-484a-9ef4-66145bbe9427"
   },
   "source": [
    "## Visualize\n",
    "\n",
    "Create any visualizations for your EDA here. Make note in the form of code comments of what your thought process is for your visualizations."
   ]
  },
  {
   "cell_type": "code",
   "execution_count": 76,
   "metadata": {
    "azdata_cell_guid": "f4565b03-759a-47a8-b58f-01b32a0b4b67",
    "scrolled": true
   },
   "outputs": [
    {
     "data": {
      "image/png": "[encoded data removed]",
      "text/plain": [
       "<Figure size 432x288 with 1 Axes>"
      ]
     },
     "metadata": {
      "needs_background": "light"
     },
     "output_type": "display_data"
    }
   ],
   "source": [
    "hmp_df.hist('Gene Count')\n",
    "plt.show()\n",
    "\n",
    "# show the distribution of Gene Count values"
   ]
  },
  {
   "cell_type": "code",
   "execution_count": 82,
   "metadata": {},
   "outputs": [
    {
     "data": {
      "text/plain": [
       "<AxesSubplot:xlabel='Gene Count', ylabel='HMP Isolation Body Site'>"
      ]
     },
     "execution_count": 82,
     "metadata": {},
     "output_type": "execute_result"
    },
    {
     "data": {
      "image/png": "[encoded data removed]",
      "text/plain": [
       "<Figure size 432x288 with 1 Axes>"
      ]
     },
     "metadata": {
      "needs_background": "light"
     },
     "output_type": "display_data"
    }
   ],
   "source": [
    "sns.scatterplot(data= hmp_df, x='Gene Count', y='HMP Isolation Body Site', hue='Domain')\n",
    "\n",
    "# SHow the distribution of Gene counts by collection site and domain type"
   ]
  },
  {
   "cell_type": "markdown",
   "metadata": {
    "azdata_cell_guid": "cd64bab1-db4c-4295-820d-c6464b653a3e"
   },
   "source": [
    "## Summarize Your Results\n",
    "\n",
    "With your EDA complete, answer the following questions.\n",
    "\n",
    "1. Was there anything surprising about your dataset? \n",
    "2. Do you have any concerns about your dataset? \n",
    "3. Is there anything you want to make note of for the next phase of your analysis, which is cleaning data? "
   ]
  },
  {
   "cell_type": "markdown",
   "metadata": {},
   "source": [
    "This dataset conatins several columns with numerical data types, however only one will prove to be useful for my business issue: Gene Count. The other numerical columns refer to study IDs and wont have much bearing on my analysis.\n",
    "\n",
    "The above observation is a bit concerning for the purposes of finding correlations between variables later on. \n",
    "\n",
    "This EDA process has brought to light a few cleaning tasks, such as removing the rows with a count of zero genes."
   ]
  }
 ],
 "metadata": {
  "kernelspec": {
   "display_name": "Python 3",
   "language": "python",
   "name": "python3"
  },
  "language_info": {
   "codemirror_mode": {
    "name": "ipython",
    "version": 3
   },
   "file_extension": ".py",
   "mimetype": "text/x-python",
   "name": "python",
   "nbconvert_exporter": "python",
   "pygments_lexer": "ipython3",
   "version": "3.8.8"
  }
 },
 "nbformat": 4,
 "nbformat_minor": 2
}
